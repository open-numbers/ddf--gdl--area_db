{
 "cells": [
  {
   "cell_type": "code",
   "execution_count": 1,
   "metadata": {
    "collapsed": true
   },
   "outputs": [],
   "source": [
    "import pandas as pd\n",
    "import numpy as np\n",
    "import os\n",
    "\n",
    "from ddf_utils.str import to_concept_id\n",
    "from ddf_utils.index import create_index_file"
   ]
  },
  {
   "cell_type": "code",
   "execution_count": 23,
   "metadata": {
    "collapsed": true
   },
   "outputs": [],
   "source": [
    "pd.set_option('max_rows', 20)"
   ]
  },
  {
   "cell_type": "code",
   "execution_count": 2,
   "metadata": {
    "collapsed": true
   },
   "outputs": [],
   "source": [
    "data_file = 'source/GDL-AreaData200.csv'\n",
    "desc_file = 'source/GDL-AreaData200-Variabledescription.csv'"
   ]
  },
  {
   "cell_type": "code",
   "execution_count": 299,
   "metadata": {
    "collapsed": false
   },
   "outputs": [],
   "source": [
    "data = pd.read_csv(data_file, encoding='iso-8859-1', skipinitialspace=True)"
   ]
  },
  {
   "cell_type": "code",
   "execution_count": 59,
   "metadata": {
    "collapsed": false
   },
   "outputs": [
    {
     "data": {
      "text/html": [
       "<div>\n",
       "<table border=\"1\" class=\"dataframe\">\n",
       "  <thead>\n",
       "    <tr style=\"text-align: right;\">\n",
       "      <th></th>\n",
       "      <th>iso_code</th>\n",
       "      <th>ISO2</th>\n",
       "      <th>country</th>\n",
       "      <th>year</th>\n",
       "      <th>datasource</th>\n",
       "      <th>GDLCODE</th>\n",
       "      <th>level</th>\n",
       "      <th>region</th>\n",
       "      <th>iwi</th>\n",
       "      <th>iwipov50</th>\n",
       "      <th>...</th>\n",
       "      <th>wastingsev</th>\n",
       "      <th>whz</th>\n",
       "      <th>overweight</th>\n",
       "      <th>obesity</th>\n",
       "      <th>bmiz</th>\n",
       "      <th>popshare</th>\n",
       "      <th>totpopm</th>\n",
       "      <th>regpopm</th>\n",
       "      <th>N</th>\n",
       "      <th>Nhh</th>\n",
       "    </tr>\n",
       "  </thead>\n",
       "  <tbody>\n",
       "    <tr>\n",
       "      <th>0</th>\n",
       "      <td>AFG</td>\n",
       "      <td>AF</td>\n",
       "      <td>Afghanistan</td>\n",
       "      <td>2010</td>\n",
       "      <td>MICS</td>\n",
       "      <td>AFGr101</td>\n",
       "      <td>Subnat</td>\n",
       "      <td>Central (Kabul Wardak Kapisa Logar Parwan Panj...</td>\n",
       "      <td>51.9</td>\n",
       "      <td>51.9</td>\n",
       "      <td>...</td>\n",
       "      <td></td>\n",
       "      <td></td>\n",
       "      <td></td>\n",
       "      <td></td>\n",
       "      <td></td>\n",
       "      <td>16</td>\n",
       "      <td>27.962</td>\n",
       "      <td>4.474</td>\n",
       "      <td>16232</td>\n",
       "      <td>2159</td>\n",
       "    </tr>\n",
       "    <tr>\n",
       "      <th>1</th>\n",
       "      <td>AFG</td>\n",
       "      <td>AF</td>\n",
       "      <td>Afghanistan</td>\n",
       "      <td>2010</td>\n",
       "      <td>MICS</td>\n",
       "      <td>AFGr102</td>\n",
       "      <td>Subnat</td>\n",
       "      <td>Central Highlands (Bamyan Daikundi)</td>\n",
       "      <td>37.8</td>\n",
       "      <td>83.1</td>\n",
       "      <td>...</td>\n",
       "      <td></td>\n",
       "      <td></td>\n",
       "      <td></td>\n",
       "      <td></td>\n",
       "      <td></td>\n",
       "      <td>3.4</td>\n",
       "      <td>27.962</td>\n",
       "      <td>.951</td>\n",
       "      <td>3449</td>\n",
       "      <td>432</td>\n",
       "    </tr>\n",
       "    <tr>\n",
       "      <th>2</th>\n",
       "      <td>AFG</td>\n",
       "      <td>AF</td>\n",
       "      <td>Afghanistan</td>\n",
       "      <td>2010</td>\n",
       "      <td>MICS</td>\n",
       "      <td>AFGr103</td>\n",
       "      <td>Subnat</td>\n",
       "      <td>East (Nangarhar Kunar Laghman Nooristan)</td>\n",
       "      <td>38.6</td>\n",
       "      <td>78.8</td>\n",
       "      <td>...</td>\n",
       "      <td></td>\n",
       "      <td></td>\n",
       "      <td></td>\n",
       "      <td></td>\n",
       "      <td></td>\n",
       "      <td>11.1</td>\n",
       "      <td>27.962</td>\n",
       "      <td>3.104</td>\n",
       "      <td>11335</td>\n",
       "      <td>1520</td>\n",
       "    </tr>\n",
       "    <tr>\n",
       "      <th>3</th>\n",
       "      <td>AFG</td>\n",
       "      <td>AF</td>\n",
       "      <td>Afghanistan</td>\n",
       "      <td>2010</td>\n",
       "      <td>MICS</td>\n",
       "      <td>AFGr104</td>\n",
       "      <td>Subnat</td>\n",
       "      <td>North (Samangan Sar-e-Pul Balkh Jawzjan Faryab)</td>\n",
       "      <td>39.6</td>\n",
       "      <td>77.8</td>\n",
       "      <td>...</td>\n",
       "      <td></td>\n",
       "      <td></td>\n",
       "      <td></td>\n",
       "      <td></td>\n",
       "      <td></td>\n",
       "      <td>13.8</td>\n",
       "      <td>27.962</td>\n",
       "      <td>3.859</td>\n",
       "      <td>14055</td>\n",
       "      <td>1913</td>\n",
       "    </tr>\n",
       "    <tr>\n",
       "      <th>4</th>\n",
       "      <td>AFG</td>\n",
       "      <td>AF</td>\n",
       "      <td>Afghanistan</td>\n",
       "      <td>2010</td>\n",
       "      <td>MICS</td>\n",
       "      <td>AFGr105</td>\n",
       "      <td>Subnat</td>\n",
       "      <td>North East (Baghlan Takhar Badakhshan Kunduz)</td>\n",
       "      <td>42.8</td>\n",
       "      <td>71</td>\n",
       "      <td>...</td>\n",
       "      <td></td>\n",
       "      <td></td>\n",
       "      <td></td>\n",
       "      <td></td>\n",
       "      <td></td>\n",
       "      <td>16.3</td>\n",
       "      <td>27.962</td>\n",
       "      <td>4.558</td>\n",
       "      <td>16557</td>\n",
       "      <td>2091</td>\n",
       "    </tr>\n",
       "    <tr>\n",
       "      <th>5</th>\n",
       "      <td>AFG</td>\n",
       "      <td>AF</td>\n",
       "      <td>Afghanistan</td>\n",
       "      <td>2010</td>\n",
       "      <td>MICS</td>\n",
       "      <td>AFGr106</td>\n",
       "      <td>Subnat</td>\n",
       "      <td>South (Uruzgan Helmand Zabul Nimroz Kandahar)</td>\n",
       "      <td>41.5</td>\n",
       "      <td>73.5</td>\n",
       "      <td>...</td>\n",
       "      <td></td>\n",
       "      <td></td>\n",
       "      <td></td>\n",
       "      <td></td>\n",
       "      <td></td>\n",
       "      <td>13.6</td>\n",
       "      <td>27.962</td>\n",
       "      <td>3.803</td>\n",
       "      <td>13825</td>\n",
       "      <td>1584</td>\n",
       "    </tr>\n",
       "    <tr>\n",
       "      <th>6</th>\n",
       "      <td>AFG</td>\n",
       "      <td>AF</td>\n",
       "      <td>Afghanistan</td>\n",
       "      <td>2010</td>\n",
       "      <td>MICS</td>\n",
       "      <td>AFGr107</td>\n",
       "      <td>Subnat</td>\n",
       "      <td>South East (Ghazni Paktya Paktika Khost)</td>\n",
       "      <td>47.6</td>\n",
       "      <td>52.5</td>\n",
       "      <td>...</td>\n",
       "      <td></td>\n",
       "      <td></td>\n",
       "      <td></td>\n",
       "      <td></td>\n",
       "      <td></td>\n",
       "      <td>12.7</td>\n",
       "      <td>27.962</td>\n",
       "      <td>3.551</td>\n",
       "      <td>12867</td>\n",
       "      <td>1263</td>\n",
       "    </tr>\n",
       "    <tr>\n",
       "      <th>7</th>\n",
       "      <td>AFG</td>\n",
       "      <td>AF</td>\n",
       "      <td>Afghanistan</td>\n",
       "      <td>2010</td>\n",
       "      <td>MICS</td>\n",
       "      <td>AFGr108</td>\n",
       "      <td>Subnat</td>\n",
       "      <td>West (Ghor Herat Badghis Farah)</td>\n",
       "      <td>43</td>\n",
       "      <td>68.3</td>\n",
       "      <td>...</td>\n",
       "      <td></td>\n",
       "      <td></td>\n",
       "      <td></td>\n",
       "      <td></td>\n",
       "      <td></td>\n",
       "      <td>13.2</td>\n",
       "      <td>27.962</td>\n",
       "      <td>3.691</td>\n",
       "      <td>13393</td>\n",
       "      <td>2155</td>\n",
       "    </tr>\n",
       "    <tr>\n",
       "      <th>8</th>\n",
       "      <td>AFG</td>\n",
       "      <td>AF</td>\n",
       "      <td>Afghanistan</td>\n",
       "      <td>2010</td>\n",
       "      <td>MICS</td>\n",
       "      <td>AFGt</td>\n",
       "      <td>National</td>\n",
       "      <td>Total</td>\n",
       "      <td>43.5</td>\n",
       "      <td>68.2</td>\n",
       "      <td>...</td>\n",
       "      <td></td>\n",
       "      <td></td>\n",
       "      <td></td>\n",
       "      <td></td>\n",
       "      <td></td>\n",
       "      <td>100</td>\n",
       "      <td>27.962</td>\n",
       "      <td>27.962</td>\n",
       "      <td>101713</td>\n",
       "      <td>13116</td>\n",
       "    </tr>\n",
       "    <tr>\n",
       "      <th>9</th>\n",
       "      <td>AFG</td>\n",
       "      <td>AF</td>\n",
       "      <td>Afghanistan</td>\n",
       "      <td>2010</td>\n",
       "      <td>MICS</td>\n",
       "      <td>AFGtr</td>\n",
       "      <td>Urb/rur</td>\n",
       "      <td>Rural</td>\n",
       "      <td>38.8</td>\n",
       "      <td>78.2</td>\n",
       "      <td>...</td>\n",
       "      <td></td>\n",
       "      <td></td>\n",
       "      <td></td>\n",
       "      <td></td>\n",
       "      <td></td>\n",
       "      <td>82.3</td>\n",
       "      <td>27.962</td>\n",
       "      <td>23.013</td>\n",
       "      <td>83713</td>\n",
       "      <td>10689</td>\n",
       "    </tr>\n",
       "    <tr>\n",
       "      <th>...</th>\n",
       "      <td>...</td>\n",
       "      <td>...</td>\n",
       "      <td>...</td>\n",
       "      <td>...</td>\n",
       "      <td>...</td>\n",
       "      <td>...</td>\n",
       "      <td>...</td>\n",
       "      <td>...</td>\n",
       "      <td>...</td>\n",
       "      <td>...</td>\n",
       "      <td>...</td>\n",
       "      <td>...</td>\n",
       "      <td>...</td>\n",
       "      <td>...</td>\n",
       "      <td>...</td>\n",
       "      <td>...</td>\n",
       "      <td>...</td>\n",
       "      <td>...</td>\n",
       "      <td>...</td>\n",
       "      <td>...</td>\n",
       "      <td>...</td>\n",
       "    </tr>\n",
       "    <tr>\n",
       "      <th>3311</th>\n",
       "      <td>ZWE</td>\n",
       "      <td>ZW</td>\n",
       "      <td>Zimbabwe</td>\n",
       "      <td>2011</td>\n",
       "      <td>DHS</td>\n",
       "      <td>ZWEr104</td>\n",
       "      <td>Subnat</td>\n",
       "      <td>Mashonaland West</td>\n",
       "      <td>36.4</td>\n",
       "      <td>72.9</td>\n",
       "      <td>...</td>\n",
       "      <td>1</td>\n",
       "      <td>.17</td>\n",
       "      <td>7.4</td>\n",
       "      <td>2.3</td>\n",
       "      <td>.31</td>\n",
       "      <td>11.4</td>\n",
       "      <td>14.256</td>\n",
       "      <td>1.625</td>\n",
       "      <td>4734</td>\n",
       "      <td>1077</td>\n",
       "    </tr>\n",
       "    <tr>\n",
       "      <th>3312</th>\n",
       "      <td>ZWE</td>\n",
       "      <td>ZW</td>\n",
       "      <td>Zimbabwe</td>\n",
       "      <td>2011</td>\n",
       "      <td>DHS</td>\n",
       "      <td>ZWEr105</td>\n",
       "      <td>Subnat</td>\n",
       "      <td>Matebeleland North</td>\n",
       "      <td>26.6</td>\n",
       "      <td>82.1</td>\n",
       "      <td>...</td>\n",
       "      <td>2.2</td>\n",
       "      <td>-.15</td>\n",
       "      <td>6.6</td>\n",
       "      <td>2.3</td>\n",
       "      <td>-.05</td>\n",
       "      <td>5.3</td>\n",
       "      <td>14.256</td>\n",
       "      <td>.756</td>\n",
       "      <td>2211</td>\n",
       "      <td>495</td>\n",
       "    </tr>\n",
       "    <tr>\n",
       "      <th>3313</th>\n",
       "      <td>ZWE</td>\n",
       "      <td>ZW</td>\n",
       "      <td>Zimbabwe</td>\n",
       "      <td>2011</td>\n",
       "      <td>DHS</td>\n",
       "      <td>ZWEr106</td>\n",
       "      <td>Subnat</td>\n",
       "      <td>Matebeleland South</td>\n",
       "      <td>30.8</td>\n",
       "      <td>85.3</td>\n",
       "      <td>...</td>\n",
       "      <td>2.5</td>\n",
       "      <td>.14</td>\n",
       "      <td>9.4</td>\n",
       "      <td>3.9</td>\n",
       "      <td>.28</td>\n",
       "      <td>5.7</td>\n",
       "      <td>14.256</td>\n",
       "      <td>.813</td>\n",
       "      <td>2378</td>\n",
       "      <td>511</td>\n",
       "    </tr>\n",
       "    <tr>\n",
       "      <th>3314</th>\n",
       "      <td>ZWE</td>\n",
       "      <td>ZW</td>\n",
       "      <td>Zimbabwe</td>\n",
       "      <td>2011</td>\n",
       "      <td>DHS</td>\n",
       "      <td>ZWEr107</td>\n",
       "      <td>Subnat</td>\n",
       "      <td>Midlands</td>\n",
       "      <td>37.7</td>\n",
       "      <td>66.4</td>\n",
       "      <td>...</td>\n",
       "      <td>.9</td>\n",
       "      <td>.04</td>\n",
       "      <td>5.4</td>\n",
       "      <td>1</td>\n",
       "      <td>.18</td>\n",
       "      <td>13</td>\n",
       "      <td>14.256</td>\n",
       "      <td>1.853</td>\n",
       "      <td>5392</td>\n",
       "      <td>1153</td>\n",
       "    </tr>\n",
       "    <tr>\n",
       "      <th>3315</th>\n",
       "      <td>ZWE</td>\n",
       "      <td>ZW</td>\n",
       "      <td>Zimbabwe</td>\n",
       "      <td>2011</td>\n",
       "      <td>DHS</td>\n",
       "      <td>ZWEr108</td>\n",
       "      <td>Subnat</td>\n",
       "      <td>Masvingo</td>\n",
       "      <td>28.7</td>\n",
       "      <td>85.4</td>\n",
       "      <td>...</td>\n",
       "      <td>.5</td>\n",
       "      <td>.34</td>\n",
       "      <td>9.6</td>\n",
       "      <td>1.5</td>\n",
       "      <td>.5</td>\n",
       "      <td>10.8</td>\n",
       "      <td>14.256</td>\n",
       "      <td>1.54</td>\n",
       "      <td>4484</td>\n",
       "      <td>1066</td>\n",
       "    </tr>\n",
       "    <tr>\n",
       "      <th>3316</th>\n",
       "      <td>ZWE</td>\n",
       "      <td>ZW</td>\n",
       "      <td>Zimbabwe</td>\n",
       "      <td>2011</td>\n",
       "      <td>DHS</td>\n",
       "      <td>ZWEr109</td>\n",
       "      <td>Subnat</td>\n",
       "      <td>Harare</td>\n",
       "      <td>66.8</td>\n",
       "      <td>17.8</td>\n",
       "      <td>...</td>\n",
       "      <td>1.3</td>\n",
       "      <td>.16</td>\n",
       "      <td>8.3</td>\n",
       "      <td>2.5</td>\n",
       "      <td>.32</td>\n",
       "      <td>14.8</td>\n",
       "      <td>14.256</td>\n",
       "      <td>2.11</td>\n",
       "      <td>6140</td>\n",
       "      <td>1564</td>\n",
       "    </tr>\n",
       "    <tr>\n",
       "      <th>3317</th>\n",
       "      <td>ZWE</td>\n",
       "      <td>ZW</td>\n",
       "      <td>Zimbabwe</td>\n",
       "      <td>2011</td>\n",
       "      <td>DHS</td>\n",
       "      <td>ZWEr110</td>\n",
       "      <td>Subnat</td>\n",
       "      <td>Bulawayo</td>\n",
       "      <td>75.5</td>\n",
       "      <td>2.5</td>\n",
       "      <td>...</td>\n",
       "      <td>0</td>\n",
       "      <td>.33</td>\n",
       "      <td>8</td>\n",
       "      <td>2.4</td>\n",
       "      <td>.45</td>\n",
       "      <td>5</td>\n",
       "      <td>14.256</td>\n",
       "      <td>.713</td>\n",
       "      <td>2066</td>\n",
       "      <td>522</td>\n",
       "    </tr>\n",
       "    <tr>\n",
       "      <th>3318</th>\n",
       "      <td>ZWE</td>\n",
       "      <td>ZW</td>\n",
       "      <td>Zimbabwe</td>\n",
       "      <td>2011</td>\n",
       "      <td>DHS</td>\n",
       "      <td>ZWEt</td>\n",
       "      <td>National</td>\n",
       "      <td>Total</td>\n",
       "      <td>41.1</td>\n",
       "      <td>64.5</td>\n",
       "      <td>...</td>\n",
       "      <td>1</td>\n",
       "      <td>.17</td>\n",
       "      <td>7.5</td>\n",
       "      <td>2.1</td>\n",
       "      <td>.3</td>\n",
       "      <td>100</td>\n",
       "      <td>14.256</td>\n",
       "      <td>14.256</td>\n",
       "      <td>41542</td>\n",
       "      <td>9756</td>\n",
       "    </tr>\n",
       "    <tr>\n",
       "      <th>3319</th>\n",
       "      <td>ZWE</td>\n",
       "      <td>ZW</td>\n",
       "      <td>Zimbabwe</td>\n",
       "      <td>2011</td>\n",
       "      <td>DHS</td>\n",
       "      <td>ZWEtr</td>\n",
       "      <td>Urb/rur</td>\n",
       "      <td>Rural</td>\n",
       "      <td>27.6</td>\n",
       "      <td>89.3</td>\n",
       "      <td>...</td>\n",
       "      <td>1</td>\n",
       "      <td>.15</td>\n",
       "      <td>7.2</td>\n",
       "      <td>1.9</td>\n",
       "      <td>.28</td>\n",
       "      <td>69.3</td>\n",
       "      <td>14.256</td>\n",
       "      <td>9.879</td>\n",
       "      <td>28783</td>\n",
       "      <td>6466</td>\n",
       "    </tr>\n",
       "    <tr>\n",
       "      <th>3320</th>\n",
       "      <td>ZWE</td>\n",
       "      <td>ZW</td>\n",
       "      <td>Zimbabwe</td>\n",
       "      <td>2011</td>\n",
       "      <td>DHS</td>\n",
       "      <td>ZWEtu</td>\n",
       "      <td>Urb/rur</td>\n",
       "      <td>Urban</td>\n",
       "      <td>67.6</td>\n",
       "      <td>15.9</td>\n",
       "      <td>...</td>\n",
       "      <td>.8</td>\n",
       "      <td>.22</td>\n",
       "      <td>8.4</td>\n",
       "      <td>2.6</td>\n",
       "      <td>.36</td>\n",
       "      <td>30.7</td>\n",
       "      <td>14.256</td>\n",
       "      <td>4.376</td>\n",
       "      <td>12759</td>\n",
       "      <td>3290</td>\n",
       "    </tr>\n",
       "  </tbody>\n",
       "</table>\n",
       "<p>3321 rows × 87 columns</p>\n",
       "</div>"
      ],
      "text/plain": [
       "     iso_code ISO2      country  year datasource  GDLCODE     level  \\\n",
       "0         AFG   AF  Afghanistan  2010       MICS  AFGr101    Subnat   \n",
       "1         AFG   AF  Afghanistan  2010       MICS  AFGr102    Subnat   \n",
       "2         AFG   AF  Afghanistan  2010       MICS  AFGr103    Subnat   \n",
       "3         AFG   AF  Afghanistan  2010       MICS  AFGr104    Subnat   \n",
       "4         AFG   AF  Afghanistan  2010       MICS  AFGr105    Subnat   \n",
       "5         AFG   AF  Afghanistan  2010       MICS  AFGr106    Subnat   \n",
       "6         AFG   AF  Afghanistan  2010       MICS  AFGr107    Subnat   \n",
       "7         AFG   AF  Afghanistan  2010       MICS  AFGr108    Subnat   \n",
       "8         AFG   AF  Afghanistan  2010       MICS     AFGt  National   \n",
       "9         AFG   AF  Afghanistan  2010       MICS    AFGtr   Urb/rur   \n",
       "...       ...  ...          ...   ...        ...      ...       ...   \n",
       "3311      ZWE   ZW     Zimbabwe  2011        DHS  ZWEr104    Subnat   \n",
       "3312      ZWE   ZW     Zimbabwe  2011        DHS  ZWEr105    Subnat   \n",
       "3313      ZWE   ZW     Zimbabwe  2011        DHS  ZWEr106    Subnat   \n",
       "3314      ZWE   ZW     Zimbabwe  2011        DHS  ZWEr107    Subnat   \n",
       "3315      ZWE   ZW     Zimbabwe  2011        DHS  ZWEr108    Subnat   \n",
       "3316      ZWE   ZW     Zimbabwe  2011        DHS  ZWEr109    Subnat   \n",
       "3317      ZWE   ZW     Zimbabwe  2011        DHS  ZWEr110    Subnat   \n",
       "3318      ZWE   ZW     Zimbabwe  2011        DHS     ZWEt  National   \n",
       "3319      ZWE   ZW     Zimbabwe  2011        DHS    ZWEtr   Urb/rur   \n",
       "3320      ZWE   ZW     Zimbabwe  2011        DHS    ZWEtu   Urb/rur   \n",
       "\n",
       "                                                 region   iwi iwipov50  ...    \\\n",
       "0     Central (Kabul Wardak Kapisa Logar Parwan Panj...  51.9     51.9  ...     \n",
       "1                   Central Highlands (Bamyan Daikundi)  37.8     83.1  ...     \n",
       "2              East (Nangarhar Kunar Laghman Nooristan)  38.6     78.8  ...     \n",
       "3       North (Samangan Sar-e-Pul Balkh Jawzjan Faryab)  39.6     77.8  ...     \n",
       "4         North East (Baghlan Takhar Badakhshan Kunduz)  42.8       71  ...     \n",
       "5         South (Uruzgan Helmand Zabul Nimroz Kandahar)  41.5     73.5  ...     \n",
       "6              South East (Ghazni Paktya Paktika Khost)  47.6     52.5  ...     \n",
       "7                       West (Ghor Herat Badghis Farah)    43     68.3  ...     \n",
       "8                                                 Total  43.5     68.2  ...     \n",
       "9                                                 Rural  38.8     78.2  ...     \n",
       "...                                                 ...   ...      ...  ...     \n",
       "3311                                   Mashonaland West  36.4     72.9  ...     \n",
       "3312                                 Matebeleland North  26.6     82.1  ...     \n",
       "3313                                 Matebeleland South  30.8     85.3  ...     \n",
       "3314                                           Midlands  37.7     66.4  ...     \n",
       "3315                                           Masvingo  28.7     85.4  ...     \n",
       "3316                                             Harare  66.8     17.8  ...     \n",
       "3317                                           Bulawayo  75.5      2.5  ...     \n",
       "3318                                              Total  41.1     64.5  ...     \n",
       "3319                                              Rural  27.6     89.3  ...     \n",
       "3320                                              Urban  67.6     15.9  ...     \n",
       "\n",
       "     wastingsev   whz overweight obesity  bmiz popshare totpopm regpopm  \\\n",
       "0                                                    16  27.962   4.474   \n",
       "1                                                   3.4  27.962    .951   \n",
       "2                                                  11.1  27.962   3.104   \n",
       "3                                                  13.8  27.962   3.859   \n",
       "4                                                  16.3  27.962   4.558   \n",
       "5                                                  13.6  27.962   3.803   \n",
       "6                                                  12.7  27.962   3.551   \n",
       "7                                                  13.2  27.962   3.691   \n",
       "8                                                   100  27.962  27.962   \n",
       "9                                                  82.3  27.962  23.013   \n",
       "...         ...   ...        ...     ...   ...      ...     ...     ...   \n",
       "3311          1   .17        7.4     2.3   .31     11.4  14.256   1.625   \n",
       "3312        2.2  -.15        6.6     2.3  -.05      5.3  14.256    .756   \n",
       "3313        2.5   .14        9.4     3.9   .28      5.7  14.256    .813   \n",
       "3314         .9   .04        5.4       1   .18       13  14.256   1.853   \n",
       "3315         .5   .34        9.6     1.5    .5     10.8  14.256    1.54   \n",
       "3316        1.3   .16        8.3     2.5   .32     14.8  14.256    2.11   \n",
       "3317          0   .33          8     2.4   .45        5  14.256    .713   \n",
       "3318          1   .17        7.5     2.1    .3      100  14.256  14.256   \n",
       "3319          1   .15        7.2     1.9   .28     69.3  14.256   9.879   \n",
       "3320         .8   .22        8.4     2.6   .36     30.7  14.256   4.376   \n",
       "\n",
       "           N    Nhh  \n",
       "0      16232   2159  \n",
       "1       3449    432  \n",
       "2      11335   1520  \n",
       "3      14055   1913  \n",
       "4      16557   2091  \n",
       "5      13825   1584  \n",
       "6      12867   1263  \n",
       "7      13393   2155  \n",
       "8     101713  13116  \n",
       "9      83713  10689  \n",
       "...      ...    ...  \n",
       "3311    4734   1077  \n",
       "3312    2211    495  \n",
       "3313    2378    511  \n",
       "3314    5392   1153  \n",
       "3315    4484   1066  \n",
       "3316    6140   1564  \n",
       "3317    2066    522  \n",
       "3318   41542   9756  \n",
       "3319   28783   6466  \n",
       "3320   12759   3290  \n",
       "\n",
       "[3321 rows x 87 columns]"
      ]
     },
     "execution_count": 59,
     "metadata": {},
     "output_type": "execute_result"
    }
   ],
   "source": [
    "data"
   ]
  },
  {
   "cell_type": "code",
   "execution_count": null,
   "metadata": {
    "collapsed": true
   },
   "outputs": [],
   "source": []
  },
  {
   "cell_type": "code",
   "execution_count": null,
   "metadata": {
    "collapsed": true
   },
   "outputs": [],
   "source": []
  },
  {
   "cell_type": "code",
   "execution_count": null,
   "metadata": {
    "collapsed": true
   },
   "outputs": [],
   "source": [
    "# region"
   ]
  },
  {
   "cell_type": "code",
   "execution_count": 143,
   "metadata": {
    "collapsed": false
   },
   "outputs": [],
   "source": [
    "region = data[['GDLCODE', 'iso_code', 'ISO2', 'country', 'region', 'level']].drop_duplicates().copy()"
   ]
  },
  {
   "cell_type": "code",
   "execution_count": 144,
   "metadata": {
    "collapsed": false
   },
   "outputs": [],
   "source": [
    "region['region_name'] = region['country'] + ' - ' + region['region']"
   ]
  },
  {
   "cell_type": "code",
   "execution_count": 145,
   "metadata": {
    "collapsed": true
   },
   "outputs": [],
   "source": [
    "region['GDLCODE'] = region['GDLCODE'].apply(to_concept_id)"
   ]
  },
  {
   "cell_type": "code",
   "execution_count": 146,
   "metadata": {
    "collapsed": false
   },
   "outputs": [
    {
     "data": {
      "text/plain": [
       "False"
      ]
     },
     "execution_count": 146,
     "metadata": {},
     "output_type": "execute_result"
    }
   ],
   "source": [
    "np.all(region['GDLCODE'].duplicated())"
   ]
  },
  {
   "cell_type": "code",
   "execution_count": 308,
   "metadata": {
    "collapsed": false,
    "scrolled": false
   },
   "outputs": [],
   "source": [
    "region['is--country'] = 0\n",
    "region['is--subregion'] = 0\n",
    "region['is--urb_rur'] = 0"
   ]
  },
  {
   "cell_type": "code",
   "execution_count": 309,
   "metadata": {
    "collapsed": false
   },
   "outputs": [],
   "source": [
    "region.loc[region['level'] == 'National', 'is--country'] = 1\n",
    "region.loc[region['level'] == 'Subnat', 'is--sub_nation'] = 1\n",
    "region.loc[region['level'] == 'Urb/rur', 'is--urb_rur'] = 1"
   ]
  },
  {
   "cell_type": "code",
   "execution_count": 347,
   "metadata": {
    "collapsed": false
   },
   "outputs": [],
   "source": [
    "region_ddf = region[['GDLCODE', 'region_name', 'iso_code', 'ISO2', 'is--country', 'is--sub_nation', 'is--urb_rur']].copy()"
   ]
  },
  {
   "cell_type": "code",
   "execution_count": 348,
   "metadata": {
    "collapsed": false
   },
   "outputs": [],
   "source": [
    "region_ddf = region_ddf.rename(columns={'GDLCODE': 'region', 'region_name': 'name', 'ISO2': 'iso2'})"
   ]
  },
  {
   "cell_type": "code",
   "execution_count": 50,
   "metadata": {
    "collapsed": false
   },
   "outputs": [],
   "source": [
    "# region_ddf.loc[region_ddf['is--country'] != 'TRUE', ['iso_code', 'iso2']] = np.nan"
   ]
  },
  {
   "cell_type": "code",
   "execution_count": null,
   "metadata": {
    "collapsed": true
   },
   "outputs": [],
   "source": []
  },
  {
   "cell_type": "code",
   "execution_count": 349,
   "metadata": {
    "collapsed": false
   },
   "outputs": [],
   "source": [
    "region_ddf.to_csv('../ddf--entities--region.csv', index=False)"
   ]
  },
  {
   "cell_type": "code",
   "execution_count": null,
   "metadata": {
    "collapsed": true
   },
   "outputs": [],
   "source": []
  },
  {
   "cell_type": "code",
   "execution_count": 55,
   "metadata": {
    "collapsed": true
   },
   "outputs": [],
   "source": [
    "# concepts"
   ]
  },
  {
   "cell_type": "code",
   "execution_count": 328,
   "metadata": {
    "collapsed": false
   },
   "outputs": [],
   "source": [
    "desc = pd.read_csv(desc_file, encoding='iso-8859-1')"
   ]
  },
  {
   "cell_type": "code",
   "execution_count": 329,
   "metadata": {
    "collapsed": true
   },
   "outputs": [],
   "source": [
    "desc['Variable'] = desc['Variable'].map(to_concept_id)"
   ]
  },
  {
   "cell_type": "code",
   "execution_count": 330,
   "metadata": {
    "collapsed": true
   },
   "outputs": [],
   "source": [
    "desc = desc.drop(['Category'], axis=1)"
   ]
  },
  {
   "cell_type": "code",
   "execution_count": 331,
   "metadata": {
    "collapsed": false
   },
   "outputs": [],
   "source": [
    "desc = desc.set_index('Variable')\n",
    "\n",
    "desc = desc.drop(['datasource', 'level'])"
   ]
  },
  {
   "cell_type": "code",
   "execution_count": 332,
   "metadata": {
    "collapsed": true
   },
   "outputs": [],
   "source": [
    "desc = desc.ix[:'cookwood']"
   ]
  },
  {
   "cell_type": "code",
   "execution_count": 333,
   "metadata": {
    "collapsed": false
   },
   "outputs": [],
   "source": [
    "desc = desc.rename(index={'region': 'sub_nation', 'gdlcode': 'region'})"
   ]
  },
  {
   "cell_type": "code",
   "execution_count": 334,
   "metadata": {
    "collapsed": false
   },
   "outputs": [],
   "source": [
    "desc.columns = ['name', 'longdescr']"
   ]
  },
  {
   "cell_type": "code",
   "execution_count": 335,
   "metadata": {
    "collapsed": true
   },
   "outputs": [],
   "source": [
    "desc['concept_type'] = 'measure'"
   ]
  },
  {
   "cell_type": "code",
   "execution_count": 336,
   "metadata": {
    "collapsed": false
   },
   "outputs": [],
   "source": [
    "desc.loc[['iso_code', 'iso2'], 'concept_type'] = 'string'\n",
    "desc.loc[['country', 'sub_nation'], 'concept_type'] = 'entity_set'\n",
    "desc.loc['region', 'concept_type'] = 'entity_domain'\n",
    "desc.loc['year', 'concept_type'] = 'time'"
   ]
  },
  {
   "cell_type": "code",
   "execution_count": 337,
   "metadata": {
    "collapsed": true
   },
   "outputs": [],
   "source": [
    "desc = desc.append(pd.DataFrame([['Urban/Rural Regions', '', 'entity_set'],\n",
    "                                 ['Name', '', 'string']\n",
    "                                ], columns=desc.columns, index=['urb_rur', 'name']))"
   ]
  },
  {
   "cell_type": "code",
   "execution_count": 338,
   "metadata": {
    "collapsed": false
   },
   "outputs": [],
   "source": [
    "desc['drillups'] = np.nan\n",
    "\n",
    "desc.loc[['sub_nation', 'urb_rur'], 'drillups'] = 'country'\n",
    "desc.loc['country', 'drillups'] = 'region'"
   ]
  },
  {
   "cell_type": "code",
   "execution_count": 339,
   "metadata": {
    "collapsed": true
   },
   "outputs": [],
   "source": [
    "desc['domain'] = np.nan\n",
    "\n",
    "desc.loc[['sub_nation', 'urb_rur', 'country'], 'domain'] = 'region'"
   ]
  },
  {
   "cell_type": "code",
   "execution_count": 340,
   "metadata": {
    "collapsed": true
   },
   "outputs": [],
   "source": [
    "desc.index.name = 'concept'\n",
    "desc = desc.reset_index()"
   ]
  },
  {
   "cell_type": "code",
   "execution_count": 273,
   "metadata": {
    "collapsed": false
   },
   "outputs": [
    {
     "data": {
      "text/plain": [
       "True"
      ]
     },
     "execution_count": 273,
     "metadata": {},
     "output_type": "execute_result"
    }
   ],
   "source": [
    "'cookwood' in desc['concept'].values"
   ]
  },
  {
   "cell_type": "code",
   "execution_count": 274,
   "metadata": {
    "collapsed": false
   },
   "outputs": [
    {
     "data": {
      "text/html": [
       "<div>\n",
       "<table border=\"1\" class=\"dataframe\">\n",
       "  <thead>\n",
       "    <tr style=\"text-align: right;\">\n",
       "      <th></th>\n",
       "      <th>concept</th>\n",
       "      <th>name</th>\n",
       "      <th>longdescr</th>\n",
       "      <th>concept_type</th>\n",
       "      <th>drill_ups</th>\n",
       "    </tr>\n",
       "  </thead>\n",
       "  <tbody>\n",
       "    <tr>\n",
       "      <th>4</th>\n",
       "      <td>region</td>\n",
       "      <td>Region code Global Data Lab</td>\n",
       "      <td>Iso-code, level (t=total, u=urban, r=rural), r...</td>\n",
       "      <td>entity_domain</td>\n",
       "      <td>NaN</td>\n",
       "    </tr>\n",
       "    <tr>\n",
       "      <th>89</th>\n",
       "      <td>urb_rur</td>\n",
       "      <td>Urban/Rural Regions</td>\n",
       "      <td></td>\n",
       "      <td>entity_set</td>\n",
       "      <td>country</td>\n",
       "    </tr>\n",
       "    <tr>\n",
       "      <th>2</th>\n",
       "      <td>country</td>\n",
       "      <td>Country name</td>\n",
       "      <td>NaN</td>\n",
       "      <td>entity_set</td>\n",
       "      <td>region</td>\n",
       "    </tr>\n",
       "    <tr>\n",
       "      <th>5</th>\n",
       "      <td>sub_nation</td>\n",
       "      <td>Sub-national region name</td>\n",
       "      <td>Name of sub-national region</td>\n",
       "      <td>entity_set</td>\n",
       "      <td>country</td>\n",
       "    </tr>\n",
       "    <tr>\n",
       "      <th>63</th>\n",
       "      <td>age4049</td>\n",
       "      <td>% population aged 40-49 in region</td>\n",
       "      <td>Percentage of national population aged 40-49 i...</td>\n",
       "      <td>measure</td>\n",
       "      <td>NaN</td>\n",
       "    </tr>\n",
       "    <tr>\n",
       "      <th>62</th>\n",
       "      <td>age3039</td>\n",
       "      <td>% population aged 30-39 in region</td>\n",
       "      <td>Percentage of national population aged 30-39 i...</td>\n",
       "      <td>measure</td>\n",
       "      <td>NaN</td>\n",
       "    </tr>\n",
       "    <tr>\n",
       "      <th>61</th>\n",
       "      <td>age2029</td>\n",
       "      <td>% population aged 20-29 in region</td>\n",
       "      <td>Percentage of national population aged 20-29 i...</td>\n",
       "      <td>measure</td>\n",
       "      <td>NaN</td>\n",
       "    </tr>\n",
       "    <tr>\n",
       "      <th>60</th>\n",
       "      <td>age1019</td>\n",
       "      <td>% population aged 10-19 in region</td>\n",
       "      <td>Percentage of national population aged 10-19 i...</td>\n",
       "      <td>measure</td>\n",
       "      <td>NaN</td>\n",
       "    </tr>\n",
       "    <tr>\n",
       "      <th>59</th>\n",
       "      <td>age09</td>\n",
       "      <td>% population aged 0-9 in region</td>\n",
       "      <td>Percentage of national population aged 0-9 in ...</td>\n",
       "      <td>measure</td>\n",
       "      <td>NaN</td>\n",
       "    </tr>\n",
       "    <tr>\n",
       "      <th>58</th>\n",
       "      <td>popshare</td>\n",
       "      <td>Share of population living in area</td>\n",
       "      <td>Share of national population living in area</td>\n",
       "      <td>measure</td>\n",
       "      <td>NaN</td>\n",
       "    </tr>\n",
       "    <tr>\n",
       "      <th>...</th>\n",
       "      <td>...</td>\n",
       "      <td>...</td>\n",
       "      <td>...</td>\n",
       "      <td>...</td>\n",
       "      <td>...</td>\n",
       "    </tr>\n",
       "    <tr>\n",
       "      <th>28</th>\n",
       "      <td>tv</td>\n",
       "      <td>% households with a TV in region</td>\n",
       "      <td>Percentage of households with a TV in region</td>\n",
       "      <td>measure</td>\n",
       "      <td>NaN</td>\n",
       "    </tr>\n",
       "    <tr>\n",
       "      <th>27</th>\n",
       "      <td>tertiary</td>\n",
       "      <td>Educational attendance children 18-21</td>\n",
       "      <td>Percentage of children aged 18-21 that current...</td>\n",
       "      <td>measure</td>\n",
       "      <td>NaN</td>\n",
       "    </tr>\n",
       "    <tr>\n",
       "      <th>26</th>\n",
       "      <td>usecondary</td>\n",
       "      <td>Educational attendance children 15-17</td>\n",
       "      <td>Percentage of children aged 15-17 that current...</td>\n",
       "      <td>measure</td>\n",
       "      <td>NaN</td>\n",
       "    </tr>\n",
       "    <tr>\n",
       "      <th>25</th>\n",
       "      <td>lsecondary</td>\n",
       "      <td>Educational attendance children 12-14</td>\n",
       "      <td>Percentage of children aged 12-14 that current...</td>\n",
       "      <td>measure</td>\n",
       "      <td>NaN</td>\n",
       "    </tr>\n",
       "    <tr>\n",
       "      <th>33</th>\n",
       "      <td>agemarw20</td>\n",
       "      <td>Mean age at first marriage of women aged 20-50...</td>\n",
       "      <td>Mean age at first marriage of women aged 20-50...</td>\n",
       "      <td>measure</td>\n",
       "      <td>NaN</td>\n",
       "    </tr>\n",
       "    <tr>\n",
       "      <th>86</th>\n",
       "      <td>largehouse</td>\n",
       "      <td>% households with three or more sleeping rooms...</td>\n",
       "      <td>Percentage of households with three or more sl...</td>\n",
       "      <td>measure</td>\n",
       "      <td>NaN</td>\n",
       "    </tr>\n",
       "    <tr>\n",
       "      <th>0</th>\n",
       "      <td>iso_code</td>\n",
       "      <td>ISO country code 3 digit</td>\n",
       "      <td>NaN</td>\n",
       "      <td>string</td>\n",
       "      <td>NaN</td>\n",
       "    </tr>\n",
       "    <tr>\n",
       "      <th>1</th>\n",
       "      <td>iso2</td>\n",
       "      <td>ISO regio code two digit</td>\n",
       "      <td>NaN</td>\n",
       "      <td>string</td>\n",
       "      <td>NaN</td>\n",
       "    </tr>\n",
       "    <tr>\n",
       "      <th>90</th>\n",
       "      <td>name</td>\n",
       "      <td>Name</td>\n",
       "      <td></td>\n",
       "      <td>string</td>\n",
       "      <td>NaN</td>\n",
       "    </tr>\n",
       "    <tr>\n",
       "      <th>3</th>\n",
       "      <td>year</td>\n",
       "      <td>Year of data collection</td>\n",
       "      <td>NaN</td>\n",
       "      <td>time</td>\n",
       "      <td>NaN</td>\n",
       "    </tr>\n",
       "  </tbody>\n",
       "</table>\n",
       "<p>91 rows × 5 columns</p>\n",
       "</div>"
      ],
      "text/plain": [
       "       concept                                               name  \\\n",
       "4       region                        Region code Global Data Lab   \n",
       "89     urb_rur                                Urban/Rural Regions   \n",
       "2      country                                       Country name   \n",
       "5   sub_nation                           Sub-national region name   \n",
       "63     age4049                  % population aged 40-49 in region   \n",
       "62     age3039                  % population aged 30-39 in region   \n",
       "61     age2029                  % population aged 20-29 in region   \n",
       "60     age1019                  % population aged 10-19 in region   \n",
       "59       age09                    % population aged 0-9 in region   \n",
       "58    popshare                 Share of population living in area   \n",
       "..         ...                                                ...   \n",
       "28          tv                   % households with a TV in region   \n",
       "27    tertiary              Educational attendance children 18-21   \n",
       "26  usecondary              Educational attendance children 15-17   \n",
       "25  lsecondary              Educational attendance children 12-14   \n",
       "33   agemarw20  Mean age at first marriage of women aged 20-50...   \n",
       "86  largehouse  % households with three or more sleeping rooms...   \n",
       "0     iso_code                           ISO country code 3 digit   \n",
       "1         iso2                           ISO regio code two digit   \n",
       "90        name                                               Name   \n",
       "3         year                            Year of data collection   \n",
       "\n",
       "                                            longdescr   concept_type drill_ups  \n",
       "4   Iso-code, level (t=total, u=urban, r=rural), r...  entity_domain       NaN  \n",
       "89                                                        entity_set   country  \n",
       "2                                                 NaN     entity_set    region  \n",
       "5                         Name of sub-national region     entity_set   country  \n",
       "63  Percentage of national population aged 40-49 i...        measure       NaN  \n",
       "62  Percentage of national population aged 30-39 i...        measure       NaN  \n",
       "61  Percentage of national population aged 20-29 i...        measure       NaN  \n",
       "60  Percentage of national population aged 10-19 i...        measure       NaN  \n",
       "59  Percentage of national population aged 0-9 in ...        measure       NaN  \n",
       "58        Share of national population living in area        measure       NaN  \n",
       "..                                                ...            ...       ...  \n",
       "28       Percentage of households with a TV in region        measure       NaN  \n",
       "27  Percentage of children aged 18-21 that current...        measure       NaN  \n",
       "26  Percentage of children aged 15-17 that current...        measure       NaN  \n",
       "25  Percentage of children aged 12-14 that current...        measure       NaN  \n",
       "33  Mean age at first marriage of women aged 20-50...        measure       NaN  \n",
       "86  Percentage of households with three or more sl...        measure       NaN  \n",
       "0                                                 NaN         string       NaN  \n",
       "1                                                 NaN         string       NaN  \n",
       "90                                                            string       NaN  \n",
       "3                                                 NaN           time       NaN  \n",
       "\n",
       "[91 rows x 5 columns]"
      ]
     },
     "execution_count": 274,
     "metadata": {},
     "output_type": "execute_result"
    }
   ],
   "source": [
    "desc.sort_values(by='concept_type')"
   ]
  },
  {
   "cell_type": "code",
   "execution_count": 221,
   "metadata": {
    "collapsed": true
   },
   "outputs": [],
   "source": [
    "desc.sort_values(by='concept_type').to_csv('../ddf--concepts.csv', index=False)"
   ]
  },
  {
   "cell_type": "code",
   "execution_count": null,
   "metadata": {
    "collapsed": true
   },
   "outputs": [],
   "source": []
  },
  {
   "cell_type": "code",
   "execution_count": null,
   "metadata": {
    "collapsed": true
   },
   "outputs": [],
   "source": []
  },
  {
   "cell_type": "code",
   "execution_count": null,
   "metadata": {
    "collapsed": true
   },
   "outputs": [],
   "source": [
    "# datapoints"
   ]
  },
  {
   "cell_type": "code",
   "execution_count": 300,
   "metadata": {
    "collapsed": true
   },
   "outputs": [],
   "source": [
    "dps = data.copy()"
   ]
  },
  {
   "cell_type": "code",
   "execution_count": 301,
   "metadata": {
    "collapsed": true
   },
   "outputs": [],
   "source": [
    "dps.columns = list(map(to_concept_id, dps.columns))"
   ]
  },
  {
   "cell_type": "code",
   "execution_count": 302,
   "metadata": {
    "collapsed": false
   },
   "outputs": [],
   "source": [
    "dps = dps.rename(columns={ 'region': 'sub_nation', 'gdlcode': 'region',})"
   ]
  },
  {
   "cell_type": "code",
   "execution_count": 255,
   "metadata": {
    "collapsed": false
   },
   "outputs": [],
   "source": [
    "measures = desc[desc['concept_type'] == 'measure']['concept'].values"
   ]
  },
  {
   "cell_type": "code",
   "execution_count": 257,
   "metadata": {
    "collapsed": false
   },
   "outputs": [
    {
     "data": {
      "text/plain": [
       "79"
      ]
     },
     "execution_count": 257,
     "metadata": {},
     "output_type": "execute_result"
    }
   ],
   "source": [
    "len(dps.columns[8:])"
   ]
  },
  {
   "cell_type": "code",
   "execution_count": 258,
   "metadata": {
    "collapsed": false
   },
   "outputs": [
    {
     "data": {
      "text/plain": [
       "84"
      ]
     },
     "execution_count": 258,
     "metadata": {},
     "output_type": "execute_result"
    }
   ],
   "source": [
    "len(measures)"
   ]
  },
  {
   "cell_type": "code",
   "execution_count": 259,
   "metadata": {
    "collapsed": false
   },
   "outputs": [
    {
     "data": {
      "text/plain": [
       "{'totpopm'}"
      ]
     },
     "execution_count": 259,
     "metadata": {},
     "output_type": "execute_result"
    }
   ],
   "source": [
    "set(dps.columns[8:]).difference(set(measures))"
   ]
  },
  {
   "cell_type": "code",
   "execution_count": 260,
   "metadata": {
    "collapsed": false
   },
   "outputs": [
    {
     "data": {
      "text/plain": [
       "{'chmort', 'infmort', 'niwi', 'nnmort', 'pnnmort', 'u5mort'}"
      ]
     },
     "execution_count": 260,
     "metadata": {},
     "output_type": "execute_result"
    }
   ],
   "source": [
    "set(measures).difference(set(dps.columns[8:]))"
   ]
  },
  {
   "cell_type": "code",
   "execution_count": 341,
   "metadata": {
    "collapsed": true
   },
   "outputs": [],
   "source": [
    "desc = desc.set_index('concept')"
   ]
  },
  {
   "cell_type": "code",
   "execution_count": 342,
   "metadata": {
    "collapsed": false
   },
   "outputs": [],
   "source": [
    "idx1 = desc.ix[desc['concept_type'] != 'measure'].index\n",
    "idx2 = dps.columns[8:]"
   ]
  },
  {
   "cell_type": "code",
   "execution_count": 343,
   "metadata": {
    "collapsed": false,
    "scrolled": true
   },
   "outputs": [
    {
     "data": {
      "text/html": [
       "<div>\n",
       "<table border=\"1\" class=\"dataframe\">\n",
       "  <thead>\n",
       "    <tr style=\"text-align: right;\">\n",
       "      <th></th>\n",
       "      <th>name</th>\n",
       "      <th>longdescr</th>\n",
       "      <th>concept_type</th>\n",
       "      <th>drillups</th>\n",
       "      <th>domain</th>\n",
       "    </tr>\n",
       "    <tr>\n",
       "      <th>concept</th>\n",
       "      <th></th>\n",
       "      <th></th>\n",
       "      <th></th>\n",
       "      <th></th>\n",
       "      <th></th>\n",
       "    </tr>\n",
       "  </thead>\n",
       "  <tbody>\n",
       "    <tr>\n",
       "      <th>iso_code</th>\n",
       "      <td>ISO country code 3 digit</td>\n",
       "      <td>NaN</td>\n",
       "      <td>string</td>\n",
       "      <td>NaN</td>\n",
       "      <td>NaN</td>\n",
       "    </tr>\n",
       "    <tr>\n",
       "      <th>iso2</th>\n",
       "      <td>ISO regio code two digit</td>\n",
       "      <td>NaN</td>\n",
       "      <td>string</td>\n",
       "      <td>NaN</td>\n",
       "      <td>NaN</td>\n",
       "    </tr>\n",
       "    <tr>\n",
       "      <th>country</th>\n",
       "      <td>Country name</td>\n",
       "      <td>NaN</td>\n",
       "      <td>entity_set</td>\n",
       "      <td>region</td>\n",
       "      <td>region</td>\n",
       "    </tr>\n",
       "    <tr>\n",
       "      <th>year</th>\n",
       "      <td>Year of data collection</td>\n",
       "      <td>NaN</td>\n",
       "      <td>time</td>\n",
       "      <td>NaN</td>\n",
       "      <td>NaN</td>\n",
       "    </tr>\n",
       "    <tr>\n",
       "      <th>region</th>\n",
       "      <td>Region code Global Data Lab</td>\n",
       "      <td>Iso-code, level (t=total, u=urban, r=rural), r...</td>\n",
       "      <td>entity_domain</td>\n",
       "      <td>NaN</td>\n",
       "      <td>NaN</td>\n",
       "    </tr>\n",
       "    <tr>\n",
       "      <th>sub_nation</th>\n",
       "      <td>Sub-national region name</td>\n",
       "      <td>Name of sub-national region</td>\n",
       "      <td>entity_set</td>\n",
       "      <td>country</td>\n",
       "      <td>region</td>\n",
       "    </tr>\n",
       "    <tr>\n",
       "      <th>urb_rur</th>\n",
       "      <td>Urban/Rural Regions</td>\n",
       "      <td></td>\n",
       "      <td>entity_set</td>\n",
       "      <td>country</td>\n",
       "      <td>region</td>\n",
       "    </tr>\n",
       "    <tr>\n",
       "      <th>name</th>\n",
       "      <td>Name</td>\n",
       "      <td></td>\n",
       "      <td>string</td>\n",
       "      <td>NaN</td>\n",
       "      <td>NaN</td>\n",
       "    </tr>\n",
       "    <tr>\n",
       "      <th>modsizehouse</th>\n",
       "      <td>% households with two sleeping rooms in region</td>\n",
       "      <td>Percentage of households with two sleeping roo...</td>\n",
       "      <td>measure</td>\n",
       "      <td>NaN</td>\n",
       "      <td>NaN</td>\n",
       "    </tr>\n",
       "    <tr>\n",
       "      <th>largehouse</th>\n",
       "      <td>% households with three or more sleeping rooms...</td>\n",
       "      <td>Percentage of households with three or more sl...</td>\n",
       "      <td>measure</td>\n",
       "      <td>NaN</td>\n",
       "      <td>NaN</td>\n",
       "    </tr>\n",
       "    <tr>\n",
       "      <th>...</th>\n",
       "      <td>...</td>\n",
       "      <td>...</td>\n",
       "      <td>...</td>\n",
       "      <td>...</td>\n",
       "      <td>...</td>\n",
       "    </tr>\n",
       "    <tr>\n",
       "      <th>wastingsev</th>\n",
       "      <td>Percentage of severely wasted children</td>\n",
       "      <td>Percentage of children aged 059 months who ar...</td>\n",
       "      <td>measure</td>\n",
       "      <td>NaN</td>\n",
       "      <td>NaN</td>\n",
       "    </tr>\n",
       "    <tr>\n",
       "      <th>whz</th>\n",
       "      <td>Weight-for-height z-score</td>\n",
       "      <td>Number of SD below or above the median weight-...</td>\n",
       "      <td>measure</td>\n",
       "      <td>NaN</td>\n",
       "      <td>NaN</td>\n",
       "    </tr>\n",
       "    <tr>\n",
       "      <th>overweight</th>\n",
       "      <td>Percentage of overweight children</td>\n",
       "      <td>Percentage of children aged 0-59 months who ar...</td>\n",
       "      <td>measure</td>\n",
       "      <td>NaN</td>\n",
       "      <td>NaN</td>\n",
       "    </tr>\n",
       "    <tr>\n",
       "      <th>obesity</th>\n",
       "      <td>Percentage of obese children</td>\n",
       "      <td>Percentage of children aged 0-59 months who ar...</td>\n",
       "      <td>measure</td>\n",
       "      <td>NaN</td>\n",
       "      <td>NaN</td>\n",
       "    </tr>\n",
       "    <tr>\n",
       "      <th>bmiz</th>\n",
       "      <td>BMI-for-age z-score</td>\n",
       "      <td>Number of SD below or above the median BMI-for...</td>\n",
       "      <td>measure</td>\n",
       "      <td>NaN</td>\n",
       "      <td>NaN</td>\n",
       "    </tr>\n",
       "    <tr>\n",
       "      <th>popshare</th>\n",
       "      <td>Share of population living in area</td>\n",
       "      <td>Share of national population living in area</td>\n",
       "      <td>measure</td>\n",
       "      <td>NaN</td>\n",
       "      <td>NaN</td>\n",
       "    </tr>\n",
       "    <tr>\n",
       "      <th>totpopm</th>\n",
       "      <td>NaN</td>\n",
       "      <td>NaN</td>\n",
       "      <td>NaN</td>\n",
       "      <td>NaN</td>\n",
       "      <td>NaN</td>\n",
       "    </tr>\n",
       "    <tr>\n",
       "      <th>regpopm</th>\n",
       "      <td>Total area population in millions</td>\n",
       "      <td>Total area population in millions</td>\n",
       "      <td>measure</td>\n",
       "      <td>NaN</td>\n",
       "      <td>NaN</td>\n",
       "    </tr>\n",
       "    <tr>\n",
       "      <th>n</th>\n",
       "      <td>Number of individual cases in dataset for region</td>\n",
       "      <td>Number of individual cases in dataset for region</td>\n",
       "      <td>measure</td>\n",
       "      <td>NaN</td>\n",
       "      <td>NaN</td>\n",
       "    </tr>\n",
       "    <tr>\n",
       "      <th>nhh</th>\n",
       "      <td>Number of households in dataset for region</td>\n",
       "      <td>Number of households in dataset for region</td>\n",
       "      <td>measure</td>\n",
       "      <td>NaN</td>\n",
       "      <td>NaN</td>\n",
       "    </tr>\n",
       "  </tbody>\n",
       "</table>\n",
       "<p>79 rows × 5 columns</p>\n",
       "</div>"
      ],
      "text/plain": [
       "                                                           name  \\\n",
       "concept                                                           \n",
       "iso_code                               ISO country code 3 digit   \n",
       "iso2                                   ISO regio code two digit   \n",
       "country                                            Country name   \n",
       "year                                    Year of data collection   \n",
       "region                              Region code Global Data Lab   \n",
       "sub_nation                             Sub-national region name   \n",
       "urb_rur                                     Urban/Rural Regions   \n",
       "name                                                       Name   \n",
       "modsizehouse     % households with two sleeping rooms in region   \n",
       "largehouse    % households with three or more sleeping rooms...   \n",
       "...                                                         ...   \n",
       "wastingsev               Percentage of severely wasted children   \n",
       "whz                                   Weight-for-height z-score   \n",
       "overweight                    Percentage of overweight children   \n",
       "obesity                            Percentage of obese children   \n",
       "bmiz                                        BMI-for-age z-score   \n",
       "popshare                     Share of population living in area   \n",
       "totpopm                                                     NaN   \n",
       "regpopm                       Total area population in millions   \n",
       "n              Number of individual cases in dataset for region   \n",
       "nhh                  Number of households in dataset for region   \n",
       "\n",
       "                                                      longdescr  \\\n",
       "concept                                                           \n",
       "iso_code                                                    NaN   \n",
       "iso2                                                        NaN   \n",
       "country                                                     NaN   \n",
       "year                                                        NaN   \n",
       "region        Iso-code, level (t=total, u=urban, r=rural), r...   \n",
       "sub_nation                          Name of sub-national region   \n",
       "urb_rur                                                           \n",
       "name                                                              \n",
       "modsizehouse  Percentage of households with two sleeping roo...   \n",
       "largehouse    Percentage of households with three or more sl...   \n",
       "...                                                         ...   \n",
       "wastingsev    Percentage of children aged 059 months who ar...   \n",
       "whz           Number of SD below or above the median weight-...   \n",
       "overweight    Percentage of children aged 0-59 months who ar...   \n",
       "obesity       Percentage of children aged 0-59 months who ar...   \n",
       "bmiz          Number of SD below or above the median BMI-for...   \n",
       "popshare            Share of national population living in area   \n",
       "totpopm                                                     NaN   \n",
       "regpopm                       Total area population in millions   \n",
       "n              Number of individual cases in dataset for region   \n",
       "nhh                  Number of households in dataset for region   \n",
       "\n",
       "               concept_type drillups  domain  \n",
       "concept                                       \n",
       "iso_code             string      NaN     NaN  \n",
       "iso2                 string      NaN     NaN  \n",
       "country          entity_set   region  region  \n",
       "year                   time      NaN     NaN  \n",
       "region        entity_domain      NaN     NaN  \n",
       "sub_nation       entity_set  country  region  \n",
       "urb_rur          entity_set  country  region  \n",
       "name                 string      NaN     NaN  \n",
       "modsizehouse        measure      NaN     NaN  \n",
       "largehouse          measure      NaN     NaN  \n",
       "...                     ...      ...     ...  \n",
       "wastingsev          measure      NaN     NaN  \n",
       "whz                 measure      NaN     NaN  \n",
       "overweight          measure      NaN     NaN  \n",
       "obesity             measure      NaN     NaN  \n",
       "bmiz                measure      NaN     NaN  \n",
       "popshare            measure      NaN     NaN  \n",
       "totpopm                 NaN      NaN     NaN  \n",
       "regpopm             measure      NaN     NaN  \n",
       "n                   measure      NaN     NaN  \n",
       "nhh                 measure      NaN     NaN  \n",
       "\n",
       "[79 rows x 5 columns]"
      ]
     },
     "execution_count": 343,
     "metadata": {},
     "output_type": "execute_result"
    }
   ],
   "source": [
    "idx = np.r_[idx1, idx2]\n",
    "\n",
    "desc.ix[idx]"
   ]
  },
  {
   "cell_type": "code",
   "execution_count": 344,
   "metadata": {
    "collapsed": true
   },
   "outputs": [],
   "source": [
    "desc.loc['totpopm', 'concept_type'] = 'measure'"
   ]
  },
  {
   "cell_type": "code",
   "execution_count": 345,
   "metadata": {
    "collapsed": true
   },
   "outputs": [],
   "source": [
    "desc.sort_values(by='concept_type').to_csv('../ddf--concepts.csv')"
   ]
  },
  {
   "cell_type": "code",
   "execution_count": null,
   "metadata": {
    "collapsed": true
   },
   "outputs": [],
   "source": []
  },
  {
   "cell_type": "code",
   "execution_count": null,
   "metadata": {
    "collapsed": true
   },
   "outputs": [],
   "source": []
  },
  {
   "cell_type": "code",
   "execution_count": 303,
   "metadata": {
    "collapsed": false
   },
   "outputs": [],
   "source": [
    "dps = dps[['year', 'region', *dps.columns[8:]]]"
   ]
  },
  {
   "cell_type": "code",
   "execution_count": 304,
   "metadata": {
    "collapsed": true
   },
   "outputs": [],
   "source": [
    "dps['region'] = dps['region'].map(to_concept_id)"
   ]
  },
  {
   "cell_type": "code",
   "execution_count": 305,
   "metadata": {
    "collapsed": false
   },
   "outputs": [],
   "source": [
    "dps = dps.set_index(['year', 'region'])"
   ]
  },
  {
   "cell_type": "code",
   "execution_count": 306,
   "metadata": {
    "collapsed": true
   },
   "outputs": [],
   "source": [
    "for k, df in dps.items():\n",
    "    df.columns = [k]\n",
    "    df = df.dropna()\n",
    "    df = df.reset_index()\n",
    "    path = '../ddf--datapoints--{}--by--region--year.csv'.format(k)\n",
    "    df.to_csv(path, index=False)"
   ]
  },
  {
   "cell_type": "code",
   "execution_count": null,
   "metadata": {
    "collapsed": true
   },
   "outputs": [],
   "source": []
  },
  {
   "cell_type": "code",
   "execution_count": null,
   "metadata": {
    "collapsed": true
   },
   "outputs": [],
   "source": []
  },
  {
   "cell_type": "code",
   "execution_count": 346,
   "metadata": {
    "collapsed": false,
    "scrolled": true
   },
   "outputs": [
    {
     "data": {
      "text/html": [
       "<div>\n",
       "<table border=\"1\" class=\"dataframe\">\n",
       "  <thead>\n",
       "    <tr style=\"text-align: right;\">\n",
       "      <th></th>\n",
       "      <th>key</th>\n",
       "      <th>value</th>\n",
       "      <th>file</th>\n",
       "    </tr>\n",
       "  </thead>\n",
       "  <tbody>\n",
       "    <tr>\n",
       "      <th>0</th>\n",
       "      <td>concept</td>\n",
       "      <td>name</td>\n",
       "      <td>ddf--concepts.csv</td>\n",
       "    </tr>\n",
       "    <tr>\n",
       "      <th>1</th>\n",
       "      <td>concept</td>\n",
       "      <td>longdescr</td>\n",
       "      <td>ddf--concepts.csv</td>\n",
       "    </tr>\n",
       "    <tr>\n",
       "      <th>2</th>\n",
       "      <td>concept</td>\n",
       "      <td>concept_type</td>\n",
       "      <td>ddf--concepts.csv</td>\n",
       "    </tr>\n",
       "    <tr>\n",
       "      <th>3</th>\n",
       "      <td>concept</td>\n",
       "      <td>drillups</td>\n",
       "      <td>ddf--concepts.csv</td>\n",
       "    </tr>\n",
       "    <tr>\n",
       "      <th>4</th>\n",
       "      <td>concept</td>\n",
       "      <td>domain</td>\n",
       "      <td>ddf--concepts.csv</td>\n",
       "    </tr>\n",
       "    <tr>\n",
       "      <th>0</th>\n",
       "      <td>region,year</td>\n",
       "      <td>age09</td>\n",
       "      <td>ddf--datapoints--age09--by--region--year.csv</td>\n",
       "    </tr>\n",
       "    <tr>\n",
       "      <th>0</th>\n",
       "      <td>region,year</td>\n",
       "      <td>age1019</td>\n",
       "      <td>ddf--datapoints--age1019--by--region--year.csv</td>\n",
       "    </tr>\n",
       "    <tr>\n",
       "      <th>0</th>\n",
       "      <td>region,year</td>\n",
       "      <td>age1chw20</td>\n",
       "      <td>ddf--datapoints--age1chw20--by--region--year.csv</td>\n",
       "    </tr>\n",
       "    <tr>\n",
       "      <th>0</th>\n",
       "      <td>region,year</td>\n",
       "      <td>age2029</td>\n",
       "      <td>ddf--datapoints--age2029--by--region--year.csv</td>\n",
       "    </tr>\n",
       "    <tr>\n",
       "      <th>0</th>\n",
       "      <td>region,year</td>\n",
       "      <td>age3039</td>\n",
       "      <td>ddf--datapoints--age3039--by--region--year.csv</td>\n",
       "    </tr>\n",
       "    <tr>\n",
       "      <th>...</th>\n",
       "      <td>...</td>\n",
       "      <td>...</td>\n",
       "      <td>...</td>\n",
       "    </tr>\n",
       "    <tr>\n",
       "      <th>0</th>\n",
       "      <td>region,year</td>\n",
       "      <td>womedyr4059</td>\n",
       "      <td>ddf--datapoints--womedyr4059--by--region--year...</td>\n",
       "    </tr>\n",
       "    <tr>\n",
       "      <th>0</th>\n",
       "      <td>region,year</td>\n",
       "      <td>womedyr60</td>\n",
       "      <td>ddf--datapoints--womedyr60--by--region--year.csv</td>\n",
       "    </tr>\n",
       "    <tr>\n",
       "      <th>0</th>\n",
       "      <td>region,year</td>\n",
       "      <td>womo40</td>\n",
       "      <td>ddf--datapoints--womo40--by--region--year.csv</td>\n",
       "    </tr>\n",
       "    <tr>\n",
       "      <th>0</th>\n",
       "      <td>region,year</td>\n",
       "      <td>youthdepr</td>\n",
       "      <td>ddf--datapoints--youthdepr--by--region--year.csv</td>\n",
       "    </tr>\n",
       "    <tr>\n",
       "      <th>0</th>\n",
       "      <td>region</td>\n",
       "      <td>name</td>\n",
       "      <td>ddf--entities--region.csv</td>\n",
       "    </tr>\n",
       "    <tr>\n",
       "      <th>1</th>\n",
       "      <td>region</td>\n",
       "      <td>iso_code</td>\n",
       "      <td>ddf--entities--region.csv</td>\n",
       "    </tr>\n",
       "    <tr>\n",
       "      <th>2</th>\n",
       "      <td>region</td>\n",
       "      <td>iso2</td>\n",
       "      <td>ddf--entities--region.csv</td>\n",
       "    </tr>\n",
       "    <tr>\n",
       "      <th>3</th>\n",
       "      <td>region</td>\n",
       "      <td>is--country</td>\n",
       "      <td>ddf--entities--region.csv</td>\n",
       "    </tr>\n",
       "    <tr>\n",
       "      <th>4</th>\n",
       "      <td>region</td>\n",
       "      <td>is--sub_nation</td>\n",
       "      <td>ddf--entities--region.csv</td>\n",
       "    </tr>\n",
       "    <tr>\n",
       "      <th>5</th>\n",
       "      <td>region</td>\n",
       "      <td>is--urb_rur</td>\n",
       "      <td>ddf--entities--region.csv</td>\n",
       "    </tr>\n",
       "  </tbody>\n",
       "</table>\n",
       "<p>90 rows × 3 columns</p>\n",
       "</div>"
      ],
      "text/plain": [
       "            key           value  \\\n",
       "0       concept            name   \n",
       "1       concept       longdescr   \n",
       "2       concept    concept_type   \n",
       "3       concept        drillups   \n",
       "4       concept          domain   \n",
       "0   region,year           age09   \n",
       "0   region,year         age1019   \n",
       "0   region,year       age1chw20   \n",
       "0   region,year         age2029   \n",
       "0   region,year         age3039   \n",
       "..          ...             ...   \n",
       "0   region,year     womedyr4059   \n",
       "0   region,year       womedyr60   \n",
       "0   region,year          womo40   \n",
       "0   region,year       youthdepr   \n",
       "0        region            name   \n",
       "1        region        iso_code   \n",
       "2        region            iso2   \n",
       "3        region     is--country   \n",
       "4        region  is--sub_nation   \n",
       "5        region     is--urb_rur   \n",
       "\n",
       "                                                 file  \n",
       "0                                   ddf--concepts.csv  \n",
       "1                                   ddf--concepts.csv  \n",
       "2                                   ddf--concepts.csv  \n",
       "3                                   ddf--concepts.csv  \n",
       "4                                   ddf--concepts.csv  \n",
       "0        ddf--datapoints--age09--by--region--year.csv  \n",
       "0      ddf--datapoints--age1019--by--region--year.csv  \n",
       "0    ddf--datapoints--age1chw20--by--region--year.csv  \n",
       "0      ddf--datapoints--age2029--by--region--year.csv  \n",
       "0      ddf--datapoints--age3039--by--region--year.csv  \n",
       "..                                                ...  \n",
       "0   ddf--datapoints--womedyr4059--by--region--year...  \n",
       "0    ddf--datapoints--womedyr60--by--region--year.csv  \n",
       "0       ddf--datapoints--womo40--by--region--year.csv  \n",
       "0    ddf--datapoints--youthdepr--by--region--year.csv  \n",
       "0                           ddf--entities--region.csv  \n",
       "1                           ddf--entities--region.csv  \n",
       "2                           ddf--entities--region.csv  \n",
       "3                           ddf--entities--region.csv  \n",
       "4                           ddf--entities--region.csv  \n",
       "5                           ddf--entities--region.csv  \n",
       "\n",
       "[90 rows x 3 columns]"
      ]
     },
     "execution_count": 346,
     "metadata": {},
     "output_type": "execute_result"
    }
   ],
   "source": [
    "create_index_file('../')"
   ]
  },
  {
   "cell_type": "code",
   "execution_count": null,
   "metadata": {
    "collapsed": true
   },
   "outputs": [],
   "source": []
  }
 ],
 "metadata": {
  "kernelspec": {
   "display_name": "Python 3",
   "language": "python",
   "name": "python3"
  },
  "language_info": {
   "codemirror_mode": {
    "name": "ipython",
    "version": 3
   },
   "file_extension": ".py",
   "mimetype": "text/x-python",
   "name": "python",
   "nbconvert_exporter": "python",
   "pygments_lexer": "ipython3",
   "version": "3.5.1"
  }
 },
 "nbformat": 4,
 "nbformat_minor": 0
}
